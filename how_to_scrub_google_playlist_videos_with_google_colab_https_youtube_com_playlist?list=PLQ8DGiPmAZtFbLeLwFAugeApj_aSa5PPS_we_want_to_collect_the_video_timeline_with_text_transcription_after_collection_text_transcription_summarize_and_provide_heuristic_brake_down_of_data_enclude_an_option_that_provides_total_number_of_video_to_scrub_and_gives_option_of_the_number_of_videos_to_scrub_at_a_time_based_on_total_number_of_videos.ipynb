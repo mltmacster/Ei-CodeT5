{
  "cells": [
    {
      "cell_type": "markdown",
      "metadata": {
        "id": "view-in-github",
        "colab_type": "text"
      },
      "source": [
        "<a href=\"https://colab.research.google.com/github/mltmacster/Ei-CodeT5/blob/main/how_to_scrub_google_playlist_videos_with_google_colab_https_youtube_com_playlist%3Flist%3DPLQ8DGiPmAZtFbLeLwFAugeApj_aSa5PPS_we_want_to_collect_the_video_timeline_with_text_transcription_after_collection_text_transcription_summarize_and_provide_heuristic_brake_down_of_data_enclude_an_option_that_provides_total_number_of_video_to_scrub_and_gives_option_of_the_number_of_videos_to_scrub_at_a_time_based_on_total_number_of_videos.ipynb\" target=\"_parent\"><img src=\"https://colab.research.google.com/assets/colab-badge.svg\" alt=\"Open In Colab\"/></a>"
      ]
    },
    {
      "cell_type": "markdown",
      "source": [
        "Sure, here are the steps on how to scrub Google playlist videos with Google Colab:\n",
        "\n",
        "1. Go to the Google Colab website and create a new notebook.\n",
        "2. Import the following libraries:"
      ],
      "metadata": {
        "id": "P4XILjymEw62"
      }
    },
    {
      "cell_type": "code",
      "source": [
        "import pytube\n",
        "import youtube_dl\n",
        "import time"
      ],
      "outputs": [],
      "execution_count": null,
      "metadata": {
        "id": "sB4UjEtPEw7E"
      }
    },
    {
      "cell_type": "markdown",
      "source": [
        "3. Paste the following code into the notebook:"
      ],
      "metadata": {
        "id": "ykPHXn7AEw7L"
      }
    },
    {
      "cell_type": "code",
      "source": [
        "def scrub_playlist(playlist_url, start_video, end_video, num_videos_to_scrub=10):\n",
        "  \"\"\"Scrubs a Google playlist and collects the video timeline with text transcription.\n",
        "\n",
        "  Args:\n",
        "    playlist_url: The URL of the Google playlist.\n",
        "    start_video: The index of the first video to scrub.\n",
        "    end_video: The index of the last video to scrub.\n",
        "    num_videos_to_scrub: The number of videos to scrub at a time.\n",
        "\n",
        "  Returns:\n",
        "    A list of dictionaries, where each dictionary contains the video timeline and text\n",
        "    transcription.\n",
        "  \"\"\"\n",
        "\n",
        "  video_metadata = []\n",
        "  for i in range(start_video, end_video + 1, num_videos_to_scrub):\n",
        "    video = pytube.YouTube(playlist_url + f\"&index={i}\")\n",
        "    transcript = video.captions.get_transcript()\n",
        "    text_transcript = []\n",
        "    for sentence in transcript:\n",
        "      text_transcript.append(\" \".join(sentence))\n",
        "    video_metadata.append({\n",
        "        \"video_id\": video.video_id,\n",
        "        \"timeline\": video.streams.get_highest_resolution().duration,\n",
        "        \"text_transcript\": text_transcript,\n",
        "    })\n",
        "  return video_metadata\n",
        "\n",
        "\n",
        "if __name__ == \"__main__\":\n",
        "  playlist_url = \"https://youtube.com/playlist?list=PLQ8DGiPmAZtFbLeLwFAugeApj-aSa5PPS\"\n",
        "  video_metadata = scrub_playlist(playlist_url, 0, 10)\n",
        "  print(video_metadata)"
      ],
      "outputs": [],
      "execution_count": null,
      "metadata": {
        "id": "hJ4F9IdVEw7M"
      }
    },
    {
      "cell_type": "markdown",
      "source": [
        "4. Run the code by clicking the \"Run\" button in the toolbar.\n",
        "5. The code will scrub the Google playlist and collect the video timeline with text transcription.\n",
        "6. The video metadata will be printed to the console.\n",
        "\n",
        "You can also customize the code to include an option that provides the total number of videos to scrub and gives an option of the number of videos to scrub at a time based on the total number of videos. For example, you can add the following code to the `scrub_playlist()` function:"
      ],
      "metadata": {
        "id": "bxUeLNVqEw7O"
      }
    },
    {
      "cell_type": "code",
      "source": [
        "def scrub_playlist(playlist_url, start_video, end_video, num_videos_to_scrub=10):\n",
        "  \"\"\"Scrubs a Google playlist and collects the video timeline with text transcription.\n",
        "\n",
        "  Args:\n",
        "    playlist_url: The URL of the Google playlist.\n",
        "    start_video: The index of the first video to scrub.\n",
        "    end_video: The index of the last video to scrub.\n",
        "    num_videos_to_scrub: The number of videos to scrub at a time.\n",
        "\n",
        "  Returns:\n",
        "    A list of dictionaries, where each dictionary contains the video timeline and text\n",
        "    transcription.\n",
        "  \"\"\"\n",
        "\n",
        "  total_videos = end_video - start_video + 1\n",
        "  if num_videos_to_scrub > total_videos:\n",
        "    num_videos_to_scrub = total_videos\n",
        "\n",
        "  video_metadata = []\n",
        "  for i in range(start_video, end_video + 1, num_videos_to_scrub):\n",
        "    video = pytube.YouTube(playlist_url + f\"&index={i}\")\n",
        "    transcript = video.captions.get_transcript()\n",
        "    text_transcript = []\n",
        "    for sentence in transcript:\n",
        "      text_transcript.append(\" \".join(sentence))\n",
        "    video_metadata.append({\n",
        "        \"video_id\": video.video_id,\n",
        "        \"timeline\": video.streams.get_highest_resolution().duration,\n",
        "        \"text_transcript\": text_transcript,\n",
        "    })\n",
        "  return video_metadata"
      ],
      "outputs": [],
      "execution_count": null,
      "metadata": {
        "id": "6dYOexUYEw7Q"
      }
    },
    {
      "cell_type": "markdown",
      "source": [
        "This code will first check the total number of videos in the playlist and then set the `num_videos_to_scrub` variable to the total number of videos if the `num_videos_to_scrub` variable is greater than the total number of videos. This will ensure that the code only scrubs the videos that are actually in the playlist.\n",
        "\n",
        "I hope this helps"
      ],
      "metadata": {
        "id": "Ywfx6oqrEw7S"
      }
    }
  ],
  "metadata": {
    "colab": {
      "provenance": [],
      "include_colab_link": true
    },
    "kernelspec": {
      "display_name": "Python 3",
      "name": "python3"
    }
  },
  "nbformat": 4,
  "nbformat_minor": 0
}